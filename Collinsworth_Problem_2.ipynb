{
  "nbformat": 4,
  "nbformat_minor": 0,
  "metadata": {
    "colab": {
      "name": "Collinsworth_Problem_2.ipynb",
      "provenance": [],
      "collapsed_sections": []
    },
    "kernelspec": {
      "name": "python3",
      "display_name": "Python 3"
    },
    "language_info": {
      "name": "python"
    }
  },
  "cells": [
    {
      "cell_type": "code",
      "metadata": {
        "id": "fT_07cqPertA"
      },
      "source": [
        "### Carwyn Collinsworth\n",
        "# Stony Brook University\n",
        "# CSE353 Assignment 6 - Problem 2: Regularization\n",
        "# Professor Yin"
      ],
      "execution_count": 184,
      "outputs": []
    },
    {
      "cell_type": "code",
      "metadata": {
        "id": "-5Iq05RcMlN_"
      },
      "source": [
        "# Imports\n",
        "\n",
        "# Firstly we need pandas to load the dataset in to our notebook\n",
        "import pandas as pd\n",
        "# Import numpy to work with matricies (transpose, multiply, etc.)\n",
        "import numpy as np\n",
        "# Import matplotlib.pyplot to chart results at the end\n",
        "import matplotlib.pyplot as plt\n",
        "# Import scipy.optimize.minimize to solve for the regularized regression\n",
        "from scipy.optimize import minimize\n",
        "# Import Math to use Math.abs in regularization\n",
        "import math"
      ],
      "execution_count": 185,
      "outputs": []
    },
    {
      "cell_type": "code",
      "metadata": {
        "colab": {
          "base_uri": "https://localhost:8080/"
        },
        "id": "NTfnvAwaMhpu",
        "outputId": "d4dc5f49-45a6-4436-eb7e-1e2d710b278c"
      },
      "source": [
        "# Mount google drive for reading from datafiles\n",
        "from google.colab import drive\n",
        "drive.mount('/content/drive')"
      ],
      "execution_count": 186,
      "outputs": [
        {
          "output_type": "stream",
          "name": "stdout",
          "text": [
            "Drive already mounted at /content/drive; to attempt to forcibly remount, call drive.mount(\"/content/drive\", force_remount=True).\n"
          ]
        }
      ]
    },
    {
      "cell_type": "code",
      "metadata": {
        "id": "whpcaB6oMvAW"
      },
      "source": [
        "# Define global variables\n",
        "\n",
        "# Note to Grader: Data directory must be changed for the appropriate location if testing code. TotalPath should point to the data directory.\n",
        "totalPath = \"/content/drive/MyDrive/Stony Brook/Classes/Year 3/Semester 1/CSE353 - Machine Learning/Assignment 6/data/\"\n",
        "xDataFileName = \"TrainingData_x.txt\"\n",
        "yDataFileName = \"TrainingData_y.txt\"\n",
        "xTestingData = \"TestingData_x.txt\"\n",
        "yTestingData = \"TestingData_y.txt\""
      ],
      "execution_count": 187,
      "outputs": []
    },
    {
      "cell_type": "code",
      "metadata": {
        "id": "c0ihADnvgpiP",
        "colab": {
          "base_uri": "https://localhost:8080/"
        },
        "outputId": "cad8b375-7f34-43e8-d293-547398f92ea0"
      },
      "source": [
        "# First of all, we want to load the datasets in and get them into the correct format\n",
        "\n",
        "# Load data\n",
        "xdata = pd.read_csv(totalPath + xDataFileName, sep=\",\", header=None).to_numpy()\n",
        "ydata = pd.read_csv(totalPath + yDataFileName, sep=\",\", header=None).to_numpy().T\n",
        "\n",
        "# Reformat xdata\n",
        "xdata = xdata.T\n",
        "ydata = ydata.T\n",
        "\n",
        "print(\"X Data: \", xdata.shape)\n",
        "print(xdata)\n",
        "print(\"Y Data: \", ydata.shape)\n",
        "print(ydata)\n",
        "\n",
        "# Let us also define our N : the number of elements in our dataset\n",
        "N = xdata.size\n",
        "\n",
        "# Our x array now has 1 row and 20 columns, y array has 20 rows, 1 column."
      ],
      "execution_count": 188,
      "outputs": [
        {
          "output_type": "stream",
          "name": "stdout",
          "text": [
            "X Data:  (1, 20)\n",
            "[[-9.5 -8.5 -7.5 -6.5 -5.5 -4.5 -3.5 -2.5 -1.5 -0.5  0.5  1.5  2.5  3.5\n",
            "   4.5  5.5  6.5  7.5  8.5  9.5]]\n",
            "Y Data:  (20, 1)\n",
            "[[-11.5732]\n",
            " [-11.4278]\n",
            " [ -5.8859]\n",
            " [  1.0129]\n",
            " [  1.5771]\n",
            " [ -1.6545]\n",
            " [  4.35  ]\n",
            " [  0.1487]\n",
            " [ -2.0709]\n",
            " [ -0.2259]\n",
            " [ -2.8502]\n",
            " [ -0.1564]\n",
            " [ -2.9034]\n",
            " [ -0.6933]\n",
            " [  4.4733]\n",
            " [  7.6149]\n",
            " [  2.6611]\n",
            " [  9.9052]\n",
            " [ 12.7065]\n",
            " [ 17.5163]]\n"
          ]
        }
      ]
    },
    {
      "cell_type": "code",
      "metadata": {
        "id": "R8vp7QoJLtTg"
      },
      "source": [
        "# Next, we want to transform our dataset along the guidelines of the question (i.e)\n",
        "# z_n = phi_Q (X_n) = [1, x_n, x^2_n, x^3_n, x^4_n, ..., x^Q_n]\n",
        "# Therefore, Q is the number of terms in our polynomial transform \n",
        "# (hence why it is called a Q-th order polynomial transform)\n",
        "\n",
        "# Let us define the Q value we want to use\n",
        "Q = 6\n",
        "\n",
        "# So we create our Z matrix where Z = [z^T_1; z^T_2; ...; z^T_N]\n",
        "Z = np.zeros((N,Q))"
      ],
      "execution_count": 189,
      "outputs": []
    },
    {
      "cell_type": "code",
      "metadata": {
        "colab": {
          "base_uri": "https://localhost:8080/"
        },
        "id": "3UqXptBCQ-LD",
        "outputId": "aaa10b02-ddf0-4d20-b41b-e29e55e5656b"
      },
      "source": [
        "# Now we want to fill our Z matrix with the correct z^T_n elements\n",
        "# As is defined: Z = [z^T_1; z^T_2; ...; z^T_N]\n",
        "\n",
        "for i in range(N):\n",
        "  #calculate z^T_i\n",
        "  #z_i = [1, x_i, x^2_i, x^3_i, x^4_i, ..., x^Q_i]\n",
        "\n",
        "  # Initialize z_temp_i array\n",
        "  z_temp_i = np.zeros((1,Q))\n",
        "  # Fill array\n",
        "  for j in range(Q):\n",
        "    z_temp_i[0,j] = xdata[0,i]**j\n",
        "  # Set array into Z\n",
        "  Z[i,:] = z_temp_i\n",
        "\n",
        "# Let us visualize our Z matrix (just the first row)\n",
        "print(Z[0,:])\n",
        "print(\"Shape of Z: \" + str(Z.shape))"
      ],
      "execution_count": 190,
      "outputs": [
        {
          "output_type": "stream",
          "name": "stdout",
          "text": [
            "[ 1.00000000e+00 -9.50000000e+00  9.02500000e+01 -8.57375000e+02\n",
            "  8.14506250e+03 -7.73780938e+04]\n",
            "Shape of Z: (20, 6)\n"
          ]
        }
      ]
    },
    {
      "cell_type": "code",
      "metadata": {
        "colab": {
          "base_uri": "https://localhost:8080/"
        },
        "id": "PN6nyS9wLlXB",
        "outputId": "dc1bc6a7-726e-40a4-b72a-055b5ed07c50"
      },
      "source": [
        "### Now we want to solve for w_poly by performing regularized linear regression\n",
        "# To do this, solve for min_w_regpoly||Z @ w_regpoly - y||^2 + lambda||w_regpoly^2||\n",
        "\n",
        "# Define lam\n",
        "lam = 0.1\n",
        "\n",
        "def min_w_regpoly(w_regpoly):\n",
        "  return np.linalg.norm(Z @ w_regpoly - np.ravel(ydata))**2  + lam * np.linalg.norm(w_poly)**2\n",
        "\n",
        "# We will use scipy.optimize.minimize\n",
        "w_poly = minimize(min_w_regpoly, np.zeros((Q,1)))\n",
        "print(\"Optimizer exited successfully?: \", str(w_poly.success), \", Message: \", w_poly.message)\n",
        "w_poly = w_poly.x\n",
        "w_poly\n",
        "\n",
        "# Visualize w_poly, which should have shape (Q,1)\n",
        "print(w_poly)\n",
        "print(w_poly.shape)"
      ],
      "execution_count": 191,
      "outputs": [
        {
          "output_type": "stream",
          "name": "stdout",
          "text": [
            "Optimizer exited successfully?:  True, Message: Termination condition is satisfied\n",
            "[-1.03276347e+00 -5.17128693e-01  1.35477215e-01  3.11999455e-02\n",
            " -1.18265448e-03 -8.76333525e-05]\n",
            "(6,)\n"
          ]
        }
      ]
    },
    {
      "cell_type": "code",
      "metadata": {
        "colab": {
          "base_uri": "https://localhost:8080/"
        },
        "id": "bTSFDGtMiwa8",
        "outputId": "ede35722-c950-4062-b865-21d984cfd865"
      },
      "source": [
        "# Now that we have calculated w_poly, we need to calculate the testing error\n",
        "# We use the formula err_sqr = sum_n=1^N (w^T_poly @ phi(x_n) - y_n)^2\n",
        "\n",
        "# initialize err_sqr\n",
        "err_sqr = 0\n",
        "\n",
        "# calculate the error of each point and add it to this sum\n",
        "for n in range(N):\n",
        "  err_sqr += (np.transpose(w_poly) @ Z[n,:] - ydata[n])**2\n",
        "\n",
        "print(\"Training Error: \" + str(err_sqr))"
      ],
      "execution_count": 192,
      "outputs": [
        {
          "output_type": "stream",
          "name": "stdout",
          "text": [
            "Training Error: [95.76071044]\n"
          ]
        }
      ]
    },
    {
      "cell_type": "code",
      "metadata": {
        "colab": {
          "base_uri": "https://localhost:8080/"
        },
        "id": "XJyrKYxOmQVc",
        "outputId": "5fb2ed43-1594-439e-a6cf-7440b4b240ef"
      },
      "source": [
        "# Testing error\n",
        "\n",
        "# Set N for testing data\n",
        "N = 40\n",
        "\n",
        "# Load data\n",
        "xTestdata = pd.read_csv(totalPath + xTestingData, sep=\",\", header=None).to_numpy()\n",
        "yTestdata = pd.read_csv(totalPath + yTestingData, sep=\",\", header=None).to_numpy().T\n",
        "\n",
        "# Reformat xdata\n",
        "xTestdata = xTestdata.T\n",
        "yTestdata = yTestdata.T\n",
        "\n",
        "# So we create our Z matrix where Z = [z^T_1; z^T_2; ...; z^T_N]\n",
        "Z_test = np.zeros((N,Q))\n",
        "\n",
        "# Now we want to fill our Z matrix with the correct z^T_n elements\n",
        "for i in range(N):\n",
        "  # Initialize z_temp_i array\n",
        "  z_temp_i = np.zeros((1,Q))\n",
        "  # Fill array\n",
        "  for j in range(Q):\n",
        "    z_temp_i[0,j] = xTestdata[0,i]**j\n",
        "  # Set array into Z\n",
        "  Z_test[i,:] = z_temp_i\n",
        "\n",
        "# initialize err_sqr\n",
        "err_sqr_test = 0\n",
        "\n",
        "# calculate the error of each point and add it to this sum\n",
        "for n in range(N):\n",
        "  err_sqr_test += (np.transpose(w_poly) @ Z_test[n,:] - yTestdata[n])**2\n",
        "\n",
        "print(\"Testing Error: \" + str(err_sqr_test))"
      ],
      "execution_count": 193,
      "outputs": [
        {
          "output_type": "stream",
          "name": "stdout",
          "text": [
            "Testing Error: [207.84535233]\n"
          ]
        }
      ]
    },
    {
      "cell_type": "code",
      "metadata": {
        "id": "2-tD_5SJwFs2"
      },
      "source": [
        "# Define our function for taking in x value and regressing to estimate y\n",
        "def hypo_function(x):\n",
        "  # generate phi(x)\n",
        "  phi_x = np.zeros((1,Q))\n",
        "  # Fill array\n",
        "  for j in range(Q):\n",
        "    phi_x[0,j] = x**j\n",
        "  # Transpose phi_x\n",
        "  phi_x = np.transpose(phi_x)\n",
        "  return np.transpose(w_poly) @ phi_x"
      ],
      "execution_count": 194,
      "outputs": []
    },
    {
      "cell_type": "code",
      "metadata": {
        "colab": {
          "base_uri": "https://localhost:8080/",
          "height": 604
        },
        "id": "6v7o4E2rrxXi",
        "outputId": "de2dfae2-b875-47d8-926e-7007408c6f0e"
      },
      "source": [
        "# Plot the training and testing sample points, and the estimated curve\n",
        "# Equation for hypothesis curve: g(x) = w_poly^T @ phi(x)\n",
        "\n",
        "# Create array that is the conglomeration of test and train for both x,y\n",
        "x_plot = np.concatenate((xdata[0], xTestdata[0]));\n",
        "print(\"X data shape: \" + str(x_plot.shape) + \", X data in total: \", x_plot)\n",
        "\n",
        "y_plot = np.concatenate((ydata[:,0],yTestdata[:,0]))\n",
        "print(\"Y data shape: \" + str(y_plot.shape) + \", Y data in total: \", y_plot)\n",
        "\n",
        "plt.plot(x_plot, y_plot, 'o')\n",
        "\n",
        "# Find the range of x data\n",
        "min_xdata = min(x_plot)\n",
        "max_xdata = max(x_plot)\n",
        "print(\"X data totality ranges from \" + str(min_xdata) + \" to \" + str(max_xdata))\n",
        "\n",
        "x_hypothesis_function = np.linspace(min_xdata - .1,max_xdata + .1, 200)\n",
        "y_hypothesis_function = np.zeros((1,x_hypothesis_function.size))\n",
        "\n",
        "# fill y data hypothesis function\n",
        "for i in range(x_hypothesis_function.size):\n",
        "  y_hypothesis_function[0,i] = hypo_function(x_hypothesis_function[i])\n",
        "\n",
        "# Reformat data for visualization\n",
        "y_hypothesis_function = np.ravel(y_hypothesis_function[0,:])\n",
        "print(y_hypothesis_function[100:120])\n",
        "\n",
        "# Set plot ranges\n",
        "plt.xlim(-15, 15)\n",
        "plt.ylim(-20, 20)\n",
        "\n",
        "plt.plot(x_hypothesis_function,y_hypothesis_function)"
      ],
      "execution_count": 195,
      "outputs": [
        {
          "output_type": "stream",
          "name": "stdout",
          "text": [
            "X data shape: (60,), X data in total:  [ -9.5  -8.5  -7.5  -6.5  -5.5  -4.5  -3.5  -2.5  -1.5  -0.5   0.5   1.5\n",
            "   2.5   3.5   4.5   5.5   6.5   7.5   8.5   9.5 -10.   -9.5  -9.   -8.5\n",
            "  -8.   -7.5  -7.   -6.5  -6.   -5.5  -5.   -4.5  -4.   -3.5  -3.   -2.5\n",
            "  -2.   -1.5  -1.   -0.5   0.    0.5   1.    1.5   2.    2.5   3.    3.5\n",
            "   4.    4.5   5.    5.5   6.    6.5   7.    7.5   8.    8.5   9.    9.5]\n",
            "Y data shape: (60,), Y data in total:  [-11.5732 -11.4278  -5.8859   1.0129   1.5771  -1.6545   4.35     0.1487\n",
            "  -2.0709  -0.2259  -2.8502  -0.1564  -2.9034  -0.6933   4.4733   7.6149\n",
            "   2.6611   9.9052  12.7065  17.5163 -17.8671 -12.4138  -8.7576  -9.1759\n",
            "  -6.9053  -4.2335  -4.5035  -2.2198  -3.3647  -1.194    2.487   -2.3754\n",
            "   1.2962   1.1436   2.7166   3.0523   0.4293   4.7032   3.5618   0.9979\n",
            "  -2.5977  -0.8968   0.6179   0.3949   4.8337   4.3903  -1.3708   1.4578\n",
            "   0.4299   0.3599   3.2461   1.356    3.2965   3.943    4.7786   8.9494\n",
            "  10.2106  13.6788  16.8569  15.0925]\n",
            "X data totality ranges from -10.0 to 9.5\n",
            "[-0.92388488 -0.97890784 -1.0314633  -1.08136824 -1.12844237 -1.17250821\n",
            " -1.21339123 -1.25091989 -1.28492579 -1.31524376 -1.34171194 -1.36417191\n",
            " -1.38246875 -1.39645118 -1.40597163 -1.41088638 -1.4110556  -1.40634351\n",
            " -1.39661843 -1.38175293]\n"
          ]
        },
        {
          "output_type": "execute_result",
          "data": {
            "text/plain": [
              "[<matplotlib.lines.Line2D at 0x7f88b4e202d0>]"
            ]
          },
          "metadata": {},
          "execution_count": 195
        },
        {
          "output_type": "display_data",
          "data": {
            "image/png": "[encoded data removed]",
            "text/plain": [
              "<Figure size 432x288 with 1 Axes>"
            ]
          },
          "metadata": {
            "needs_background": "light"
          }
        }
      ]
    },
    {
      "cell_type": "code",
      "metadata": {
        "id": "CKtaoS_HDXiI"
      },
      "source": [
        "### With the regularization in place, we have optimized the function at Q=6.\n",
        "# We now have error rates of 95.76071044 for training and 207.84533215 for testing.\n",
        "# With the low lambda value, these are almost identical with our linear regression\n",
        "# without regularization"
      ],
      "execution_count": 196,
      "outputs": []
    },
    {
      "cell_type": "code",
      "metadata": {
        "id": "7xLSPJYUJocA"
      },
      "source": [
        "### With a lambda of 100, our error rates slightly fell\n",
        "# training: 95.76071043, testing: 207.84535233"
      ],
      "execution_count": 197,
      "outputs": []
    }
  ]
}