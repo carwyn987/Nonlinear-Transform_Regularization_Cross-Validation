{
  "nbformat": 4,
  "nbformat_minor": 0,
  "metadata": {
    "colab": {
      "name": "Collinsworth_Problem_1.ipynb",
      "provenance": [],
      "collapsed_sections": []
    },
    "kernelspec": {
      "name": "python3",
      "display_name": "Python 3"
    },
    "language_info": {
      "name": "python"
    }
  },
  "cells": [
    {
      "cell_type": "code",
      "metadata": {
        "id": "fT_07cqPertA"
      },
      "source": [
        "### Carwyn Collinsworth\n",
        "# Stony Brook University\n",
        "# CSE353 Assignment 6 - Problem 1: Nonlinear Transform and Overfitting/Underfitting\n",
        "# Professor Yin"
      ],
      "execution_count": null,
      "outputs": []
    },
    {
      "cell_type": "code",
      "metadata": {
        "id": "-5Iq05RcMlN_"
      },
      "source": [
        "# Imports\n",
        "\n",
        "# Firstly we need pandas to load the dataset in to our notebook\n",
        "import pandas as pd\n",
        "# Import numpy to work with matricies (transpose, multiply, etc.)\n",
        "import numpy as np\n",
        "# Import matplotlib.pyplot to chart results at the end\n",
        "import matplotlib.pyplot as plt"
      ],
      "execution_count": null,
      "outputs": []
    },
    {
      "cell_type": "code",
      "metadata": {
        "colab": {
          "base_uri": "https://localhost:8080/"
        },
        "id": "NTfnvAwaMhpu",
        "outputId": "4599129b-a929-4009-82cc-183dd6e38800"
      },
      "source": [
        "# Mount google drive for reading from datafiles\n",
        "from google.colab import drive\n",
        "drive.mount('/content/drive')"
      ],
      "execution_count": null,
      "outputs": [
        {
          "output_type": "stream",
          "name": "stdout",
          "text": [
            "Drive already mounted at /content/drive; to attempt to forcibly remount, call drive.mount(\"/content/drive\", force_remount=True).\n"
          ]
        }
      ]
    },
    {
      "cell_type": "code",
      "metadata": {
        "id": "whpcaB6oMvAW"
      },
      "source": [
        "# Define global variables\n",
        "\n",
        "# Note to Grader: Data directory must be changed for the appropriate location if testing code. TotalPath should point to the data directory.\n",
        "totalPath = \"/content/drive/MyDrive/Stony Brook/Classes/Year 3/Semester 1/CSE353 - Machine Learning/Assignment 6/data/\"\n",
        "xDataFileName = \"TrainingData_x.txt\"\n",
        "yDataFileName = \"TrainingData_y.txt\"\n",
        "xTestingData = \"TestingData_x.txt\"\n",
        "yTestingData = \"TestingData_y.txt\""
      ],
      "execution_count": null,
      "outputs": []
    },
    {
      "cell_type": "code",
      "metadata": {
        "id": "c0ihADnvgpiP",
        "colab": {
          "base_uri": "https://localhost:8080/"
        },
        "outputId": "154bb1fc-d215-41fd-dc8b-c2bd6625d81e"
      },
      "source": [
        "# First of all, we want to load the datasets in and get them into the correct format\n",
        "\n",
        "# Load data\n",
        "xdata = pd.read_csv(totalPath + xDataFileName, sep=\",\", header=None).to_numpy()\n",
        "ydata = pd.read_csv(totalPath + yDataFileName, sep=\",\", header=None).to_numpy().T\n",
        "\n",
        "# Reformat xdata\n",
        "xdata = xdata.T\n",
        "ydata = ydata.T\n",
        "\n",
        "print(\"X Data: \", xdata.shape)\n",
        "print(xdata)\n",
        "print(\"Y Data: \", ydata.shape)\n",
        "print(ydata)\n",
        "\n",
        "# Let us also define our N : the number of elements in our dataset\n",
        "N = xdata.size\n",
        "\n",
        "# Our x array now has 1 row and 20 columns, y array has 20 rows, 1 column."
      ],
      "execution_count": null,
      "outputs": [
        {
          "output_type": "stream",
          "name": "stdout",
          "text": [
            "X Data:  (1, 20)\n",
            "[[-9.5 -8.5 -7.5 -6.5 -5.5 -4.5 -3.5 -2.5 -1.5 -0.5  0.5  1.5  2.5  3.5\n",
            "   4.5  5.5  6.5  7.5  8.5  9.5]]\n",
            "Y Data:  (20, 1)\n",
            "[[-11.5732]\n",
            " [-11.4278]\n",
            " [ -5.8859]\n",
            " [  1.0129]\n",
            " [  1.5771]\n",
            " [ -1.6545]\n",
            " [  4.35  ]\n",
            " [  0.1487]\n",
            " [ -2.0709]\n",
            " [ -0.2259]\n",
            " [ -2.8502]\n",
            " [ -0.1564]\n",
            " [ -2.9034]\n",
            " [ -0.6933]\n",
            " [  4.4733]\n",
            " [  7.6149]\n",
            " [  2.6611]\n",
            " [  9.9052]\n",
            " [ 12.7065]\n",
            " [ 17.5163]]\n"
          ]
        }
      ]
    },
    {
      "cell_type": "code",
      "metadata": {
        "id": "R8vp7QoJLtTg"
      },
      "source": [
        "# Next, we want to transform our dataset along the guidelines of the question (i.e)\n",
        "# z_n = phi_Q (X_n) = [1, x_n, x^2_n, x^3_n, x^4_n, ..., x^Q_n]\n",
        "# Therefore, Q is the number of terms in our polynomial transform \n",
        "# (hence why it is called a Q-th order polynomial transform)\n",
        "\n",
        "# Let us define the Q value we want to use\n",
        "Q = 4\n",
        "\n",
        "# So we create our Z matrix where Z = [z^T_1; z^T_2; ...; z^T_N]\n",
        "Z = np.zeros((N,Q))"
      ],
      "execution_count": null,
      "outputs": []
    },
    {
      "cell_type": "code",
      "metadata": {
        "colab": {
          "base_uri": "https://localhost:8080/"
        },
        "id": "3UqXptBCQ-LD",
        "outputId": "7696d935-1ca6-4015-dc0c-4da45c9853b0"
      },
      "source": [
        "# Now we want to fill our Z matrix with the correct z^T_n elements\n",
        "# As is defined: Z = [z^T_1; z^T_2; ...; z^T_N]\n",
        "\n",
        "for i in range(N):\n",
        "  #calculate z^T_i\n",
        "  #z_i = [1, x_i, x^2_i, x^3_i, x^4_i, ..., x^Q_i]\n",
        "\n",
        "  # Initialize z_temp_i array\n",
        "  z_temp_i = np.zeros((1,Q))\n",
        "  # Fill array\n",
        "  for j in range(Q):\n",
        "    z_temp_i[0,j] = xdata[0,i]**j\n",
        "  # Set array into Z\n",
        "  Z[i,:] = z_temp_i\n",
        "\n",
        "# Let us visualize our Z matrix (just the first row)\n",
        "print(Z[0,:])\n",
        "print(\"Shape of Z: \" + str(Z.shape))"
      ],
      "execution_count": null,
      "outputs": [
        {
          "output_type": "stream",
          "name": "stdout",
          "text": [
            "[   1.      -9.5     90.25  -857.375]\n",
            "Shape of Z: (20, 4)\n"
          ]
        }
      ]
    },
    {
      "cell_type": "code",
      "metadata": {
        "colab": {
          "base_uri": "https://localhost:8080/"
        },
        "id": "PN6nyS9wLlXB",
        "outputId": "e1a4b937-57a6-45e1-b6e7-fe90b126ff6e"
      },
      "source": [
        "# Next, we want to perform closed form linear regression on our transformed dataset\n",
        "# This should follow the formula defined as:\n",
        "# w_poly = [w_0, w_1, ..., w_Q]^T = (Z^T @ Z)^-1 @ Z^T@y\n",
        "\n",
        "# Note that Z has a shape of (20,19),\n",
        "# Therefore Z^T has a shape of (19,20),\n",
        "# and y has a shape of (20,1)\n",
        "\n",
        "w_poly = np.linalg.inv((np.transpose(Z) @ Z)) @ np.transpose(Z) @ ydata\n",
        "\n",
        "# visualize w_poly, which should have shape (Q,1)\n",
        "print(w_poly)\n",
        "print(w_poly.shape)"
      ],
      "execution_count": null,
      "outputs": [
        {
          "output_type": "stream",
          "name": "stdout",
          "text": [
            "[[-0.04434186]\n",
            " [-0.31645465]\n",
            " [ 0.03520502]\n",
            " [ 0.0216335 ]]\n",
            "(4, 1)\n"
          ]
        }
      ]
    },
    {
      "cell_type": "code",
      "metadata": {
        "colab": {
          "base_uri": "https://localhost:8080/"
        },
        "id": "bTSFDGtMiwa8",
        "outputId": "762089be-8b4b-4781-d492-74936a7e8a66"
      },
      "source": [
        "# Now that we have calculated w_poly, we need to calculate the testing error\n",
        "# We use the formula err_sqr = sum_n=1^N (w^T_poly @ phi(x_n) - y_n)^2\n",
        "\n",
        "# initialize err_sqr\n",
        "err_sqr = 0\n",
        "\n",
        "# calculate the error of each point and add it to this sum\n",
        "for n in range(N):\n",
        "  err_sqr += (np.transpose(w_poly) @ Z[n,:] - ydata[n])**2\n",
        "\n",
        "print(\"Training Error: \" + str(err_sqr))"
      ],
      "execution_count": null,
      "outputs": [
        {
          "output_type": "stream",
          "name": "stdout",
          "text": [
            "Training Error: [112.73940321]\n"
          ]
        }
      ]
    },
    {
      "cell_type": "code",
      "metadata": {
        "colab": {
          "base_uri": "https://localhost:8080/"
        },
        "id": "XJyrKYxOmQVc",
        "outputId": "54801efa-df97-4f8d-aae1-f1160973e793"
      },
      "source": [
        "# Testing error\n",
        "\n",
        "# Set N for testing data\n",
        "N = 40\n",
        "\n",
        "# Load data\n",
        "xTestdata = pd.read_csv(totalPath + xTestingData, sep=\",\", header=None).to_numpy()\n",
        "yTestdata = pd.read_csv(totalPath + yTestingData, sep=\",\", header=None).to_numpy().T\n",
        "\n",
        "# Reformat xdata\n",
        "xTestdata = xTestdata.T\n",
        "yTestdata = yTestdata.T\n",
        "\n",
        "# So we create our Z matrix where Z = [z^T_1; z^T_2; ...; z^T_N]\n",
        "Z_test = np.zeros((N,Q))\n",
        "\n",
        "# Now we want to fill our Z matrix with the correct z^T_n elements\n",
        "for i in range(N):\n",
        "  # Initialize z_temp_i array\n",
        "  z_temp_i = np.zeros((1,Q))\n",
        "  # Fill array\n",
        "  for j in range(Q):\n",
        "    z_temp_i[0,j] = xTestdata[0,i]**j\n",
        "  # Set array into Z\n",
        "  Z_test[i,:] = z_temp_i\n",
        "\n",
        "# initialize err_sqr\n",
        "err_sqr_test = 0\n",
        "\n",
        "# calculate the error of each point and add it to this sum\n",
        "for n in range(N):\n",
        "  err_sqr_test += (np.transpose(w_poly) @ Z_test[n,:] - yTestdata[n])**2\n",
        "\n",
        "print(\"Testing Error: \" + str(err_sqr_test))"
      ],
      "execution_count": null,
      "outputs": [
        {
          "output_type": "stream",
          "name": "stdout",
          "text": [
            "Testing Error: [158.18832809]\n"
          ]
        }
      ]
    },
    {
      "cell_type": "code",
      "metadata": {
        "id": "2-tD_5SJwFs2"
      },
      "source": [
        "# Define our function for taking in x value and regressing to estimate y\n",
        "def hypo_function(x):\n",
        "  # generate phi(x)\n",
        "  phi_x = np.zeros((1,Q))\n",
        "  # Fill array\n",
        "  for j in range(Q):\n",
        "    phi_x[0,j] = x**j\n",
        "  # Transpose phi_x\n",
        "  phi_x = np.transpose(phi_x)\n",
        "  return np.transpose(w_poly) @ phi_x"
      ],
      "execution_count": null,
      "outputs": []
    },
    {
      "cell_type": "code",
      "metadata": {
        "colab": {
          "base_uri": "https://localhost:8080/",
          "height": 604
        },
        "id": "6v7o4E2rrxXi",
        "outputId": "707c47b7-ad77-4ffc-e771-37b9cd831166"
      },
      "source": [
        "# Plot the training and testing sample points, and the estimated curve\n",
        "# Equation for hypothesis curve: g(x) = w_poly^T @ phi(x)\n",
        "\n",
        "# Create array that is the conglomeration of test and train for both x,y\n",
        "x_plot = np.concatenate((xdata[0], xTestdata[0]));\n",
        "print(\"X data shape: \" + str(x_plot.shape) + \", X data in total: \", x_plot)\n",
        "\n",
        "y_plot = np.concatenate((ydata[:,0],yTestdata[:,0]))\n",
        "print(\"Y data shape: \" + str(y_plot.shape) + \", Y data in total: \", y_plot)\n",
        "\n",
        "plt.plot(x_plot, y_plot, 'o')\n",
        "\n",
        "# Find the range of x data\n",
        "min_xdata = min(x_plot)\n",
        "max_xdata = max(x_plot)\n",
        "print(\"X data totality ranges from \" + str(min_xdata) + \" to \" + str(max_xdata))\n",
        "\n",
        "x_hypothesis_function = np.linspace(min_xdata - .1,max_xdata + .1, 200)\n",
        "y_hypothesis_function = np.zeros((1,x_hypothesis_function.size))\n",
        "\n",
        "# fill y data hypothesis function\n",
        "for i in range(x_hypothesis_function.size):\n",
        "  y_hypothesis_function[0,i] = hypo_function(x_hypothesis_function[i])\n",
        "\n",
        "# Reformat data for visualization\n",
        "y_hypothesis_function = np.ravel(y_hypothesis_function[0,:])\n",
        "print(y_hypothesis_function[100:120])\n",
        "\n",
        "# Set plot ranges\n",
        "plt.xlim(-15, 15)\n",
        "plt.ylim(-20, 20)\n",
        "\n",
        "plt.plot(x_hypothesis_function,y_hypothesis_function)"
      ],
      "execution_count": null,
      "outputs": [
        {
          "output_type": "stream",
          "name": "stdout",
          "text": [
            "X data shape: (60,), X data in total:  [ -9.5  -8.5  -7.5  -6.5  -5.5  -4.5  -3.5  -2.5  -1.5  -0.5   0.5   1.5\n",
            "   2.5   3.5   4.5   5.5   6.5   7.5   8.5   9.5 -10.   -9.5  -9.   -8.5\n",
            "  -8.   -7.5  -7.   -6.5  -6.   -5.5  -5.   -4.5  -4.   -3.5  -3.   -2.5\n",
            "  -2.   -1.5  -1.   -0.5   0.    0.5   1.    1.5   2.    2.5   3.    3.5\n",
            "   4.    4.5   5.    5.5   6.    6.5   7.    7.5   8.    8.5   9.    9.5]\n",
            "Y data shape: (60,), Y data in total:  [-11.5732 -11.4278  -5.8859   1.0129   1.5771  -1.6545   4.35     0.1487\n",
            "  -2.0709  -0.2259  -2.8502  -0.1564  -2.9034  -0.6933   4.4733   7.6149\n",
            "   2.6611   9.9052  12.7065  17.5163 -17.8671 -12.4138  -8.7576  -9.1759\n",
            "  -6.9053  -4.2335  -4.5035  -2.2198  -3.3647  -1.194    2.487   -2.3754\n",
            "   1.2962   1.1436   2.7166   3.0523   0.4293   4.7032   3.5618   0.9979\n",
            "  -2.5977  -0.8968   0.6179   0.3949   4.8337   4.3903  -1.3708   1.4578\n",
            "   0.4299   0.3599   3.2461   1.356    3.2965   3.943    4.7786   8.9494\n",
            "  10.2106  13.6788  16.8569  15.0925]\n",
            "X data totality ranges from -10.0 to 9.5\n",
            "[ 0.02034901 -0.01187921 -0.04354652 -0.07452702 -0.10469476 -0.13392383\n",
            " -0.1620883  -0.18906223 -0.21471972 -0.23893482 -0.26158161 -0.28253416\n",
            " -0.30166655 -0.31885286 -0.33396715 -0.34688349 -0.35747597 -0.36561866\n",
            " -0.37118562 -0.37405093]\n"
          ]
        },
        {
          "output_type": "execute_result",
          "data": {
            "text/plain": [
              "[<matplotlib.lines.Line2D at 0x7f7f8dbc2a90>]"
            ]
          },
          "metadata": {},
          "execution_count": 260
        },
        {
          "output_type": "display_data",
          "data": {
            "image/png": "[encoded data removed]",
            "text/plain": [
              "<Figure size 432x288 with 1 Axes>"
            ]
          },
          "metadata": {
            "needs_background": "light"
          }
        }
      ]
    },
    {
      "cell_type": "code",
      "metadata": {
        "id": "ob19gWeX1fCB"
      },
      "source": [
        "### The below comments are respective to the order of Q values I tried. This\n",
        "# can be changed above in the 6th block to test different Q values.\n",
        "\n",
        "# So that the comments below make sense, the order of Q values I tested was:\n",
        "# 19\n",
        "# 10\n",
        "# 5\n",
        "# 2\n",
        "\n",
        "# Screenshots will be shown in the accompanying document"
      ],
      "execution_count": null,
      "outputs": []
    },
    {
      "cell_type": "code",
      "metadata": {
        "id": "3lnsnkkx0zio"
      },
      "source": [
        "### Note that the chart uses a Q of 19. That means that we are using a very\n",
        "# high order polynomial expression to represent these points, likely causing\n",
        "# the overfitting that we see here. We can also verify this by the chart\n",
        "# going crazy (shooting up and down just past our dataset), representing the lack\n",
        "# of ability of our algorithm to generalize.\n",
        "\n",
        "# The training accuracy was 3, and the testing was 5*10^8\n",
        "# This is typical for overfitting."
      ],
      "execution_count": null,
      "outputs": []
    },
    {
      "cell_type": "code",
      "metadata": {
        "id": "1NXPjxEi1Igc"
      },
      "source": [
        "### Using a lower Q value will likely flatten the curve, allowing it to generalize\n",
        "# better, and giving us lower error values.\n",
        "\n",
        "# For a Q of 10:\n",
        "# The polynomial generalizes much better than Q=19, and this is likely the highest \n",
        "# testing accuracy we will achieve at 674 (training is 61).\n",
        "\n",
        "# However, we still see lack of generalization as at the lower bound of our dataset,\n",
        "# the curve shoots up. This means it is still likely overfitting."
      ],
      "execution_count": null,
      "outputs": []
    },
    {
      "cell_type": "code",
      "metadata": {
        "id": "TLrVmVDk2itF"
      },
      "source": [
        "# For a Q of 5:\n",
        "# Training accuracy is 97 and testing accuracy is 205.\n",
        "# This curve is one of the best I was able to produce (other than Q=4), and \n",
        "# doesn't show strong signs of # overfitting or underfitting, although I would \n",
        "# like to see a little closer testing and training accuracy."
      ],
      "execution_count": null,
      "outputs": []
    },
    {
      "cell_type": "code",
      "metadata": {
        "id": "Jn7d7JRq3Uk4"
      },
      "source": [
        "# For a Q of 2:\n",
        "# Training accuracy is 341 and testing accuracy is 558.\n",
        "# This curve is oversimplified, and is underfitting. It is a linear line, and \n",
        "# it does not capture the complexity of the data."
      ],
      "execution_count": null,
      "outputs": []
    },
    {
      "cell_type": "code",
      "metadata": {
        "id": "z486YtC-3lc8"
      },
      "source": [
        " # Note that a Q of 3 is quadratic and has the same analysis as Q=2.\n",
        "\n",
        " # Q=4 has a training error of 112 and testing of 158. This is the best\n",
        " # model I was able to produce. It perfectly captures the complexity of the data,\n",
        " # without overfitting. It also has the lowest error of all Q values."
      ],
      "execution_count": null,
      "outputs": []
    }
  ]
}